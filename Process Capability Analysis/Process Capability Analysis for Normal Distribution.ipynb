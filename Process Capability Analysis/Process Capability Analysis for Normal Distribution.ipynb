{
 "cells": [
  {
   "cell_type": "code",
   "execution_count": 38,
   "metadata": {},
   "outputs": [],
   "source": [
    "import numpy as np\n",
    "import pandas as pd\n",
    "import matplotlib.pyplot as plt\n",
    "from scipy import stats"
   ]
  },
  {
   "cell_type": "code",
   "execution_count": 39,
   "metadata": {},
   "outputs": [
    {
     "data": {
      "text/html": [
       "<div>\n",
       "<style scoped>\n",
       "    .dataframe tbody tr th:only-of-type {\n",
       "        vertical-align: middle;\n",
       "    }\n",
       "\n",
       "    .dataframe tbody tr th {\n",
       "        vertical-align: top;\n",
       "    }\n",
       "\n",
       "    .dataframe thead th {\n",
       "        text-align: right;\n",
       "    }\n",
       "</style>\n",
       "<table border=\"1\" class=\"dataframe\">\n",
       "  <thead>\n",
       "    <tr style=\"text-align: right;\">\n",
       "      <th></th>\n",
       "      <th>Diameter</th>\n",
       "    </tr>\n",
       "  </thead>\n",
       "  <tbody>\n",
       "    <tr>\n",
       "      <td>0</td>\n",
       "      <td>74.030</td>\n",
       "    </tr>\n",
       "    <tr>\n",
       "      <td>1</td>\n",
       "      <td>74.002</td>\n",
       "    </tr>\n",
       "    <tr>\n",
       "      <td>2</td>\n",
       "      <td>74.019</td>\n",
       "    </tr>\n",
       "    <tr>\n",
       "      <td>3</td>\n",
       "      <td>73.992</td>\n",
       "    </tr>\n",
       "    <tr>\n",
       "      <td>4</td>\n",
       "      <td>74.008</td>\n",
       "    </tr>\n",
       "  </tbody>\n",
       "</table>\n",
       "</div>"
      ],
      "text/plain": [
       "   Diameter\n",
       "0    74.030\n",
       "1    74.002\n",
       "2    74.019\n",
       "3    73.992\n",
       "4    74.008"
      ]
     },
     "execution_count": 39,
     "metadata": {},
     "output_type": "execute_result"
    }
   ],
   "source": [
    "df = pd.read_excel(r'C:\\Users\\David\\Projects\\Process Capability Analysis\\PistonRingDiameter.xlsx')\n",
    "df.head()"
   ]
  },
  {
   "cell_type": "code",
   "execution_count": 40,
   "metadata": {},
   "outputs": [
    {
     "data": {
      "image/png": "[encoded data removed]",
      "text/plain": [
       "<Figure size 432x288 with 1 Axes>"
      ]
     },
     "metadata": {
      "needs_background": "light"
     },
     "output_type": "display_data"
    }
   ],
   "source": [
    "#Test normality of data distribution\n",
    "fig = plt.figure()\n",
    "ax1 = fig.add_subplot(111)\n",
    "prob = stats.probplot(df['Diameter'], dist=stats.norm,plot=ax1)\n",
    "ax1.set_xlabel('')\n",
    "ax1.set_title('Probability plot against normal distribution')\n",
    "plt.show()"
   ]
  },
  {
   "cell_type": "code",
   "execution_count": 41,
   "metadata": {},
   "outputs": [
    {
     "data": {
      "image/png": "[encoded data removed]",
      "text/plain": [
       "<Figure size 432x288 with 1 Axes>"
      ]
     },
     "metadata": {
      "needs_background": "light"
     },
     "output_type": "display_data"
    }
   ],
   "source": [
    "fig = plt.figure()\n",
    "ax1 = fig.add_subplot(111)\n",
    "plot = plt.hist(df['Diameter'])\n",
    "plt.show()"
   ]
  },
  {
   "cell_type": "code",
   "execution_count": 42,
   "metadata": {},
   "outputs": [
    {
     "data": {
      "text/plain": [
       "AndersonResult(statistic=0.19333225380320584, critical_values=array([0.559, 0.637, 0.764, 0.891, 1.06 ]), significance_level=array([15. , 10. ,  5. ,  2.5,  1. ]))"
      ]
     },
     "execution_count": 42,
     "metadata": {},
     "output_type": "execute_result"
    }
   ],
   "source": [
    "#Perform Anderson-Darling test to test if the null hypothesis sample from a population follows a particular distribution.\n",
    "stats.anderson(df['Diameter'], dist='norm') # To test fi the distribution is normal."
   ]
  },
  {
   "cell_type": "markdown",
   "metadata": {},
   "source": [
    "- Returns the Anderson-Darling stat: a list of critical values for this distribution, and a list of significane levels for the corresponding critical values in percent.\n",
    "- If the returned stat is larger than the critical value at the chosen significant level, the null hypothesis can be rejected that says that the data is from a normal distribution.\n",
    "- In this instance, the Anderson-Darling statistic is 0.1933, smaller than 0.764. The critical value is at 5% significant level. Thus, we can't reject the null hypothesis and conclude that the distribution is normal."
   ]
  },
  {
   "cell_type": "code",
   "execution_count": 43,
   "metadata": {},
   "outputs": [
    {
     "data": {
      "text/plain": [
       "NormaltestResult(statistic=1.244555012372961, pvalue=0.5367206599196641)"
      ]
     },
     "execution_count": 43,
     "metadata": {},
     "output_type": "execute_result"
    }
   ],
   "source": [
    "stats.normaltest(df['Diameter'])"
   ]
  },
  {
   "cell_type": "markdown",
   "metadata": {},
   "source": [
    "- The above conclusion is confirmed by the test using stats.normaltest() function.\n",
    "- The stats.normaltest() function, based on D'Agostino and Pearson's test that skew and kurtosis, tests the null hypothesis that the distributionis normal.\n",
    "- Since the p-value from this test is 0.5367, larger than 0.05, the distribution of the data is normal."
   ]
  },
  {
   "cell_type": "code",
   "execution_count": 44,
   "metadata": {},
   "outputs": [],
   "source": [
    "x = df['Diameter']\n",
    "# Define the Cp index\n",
    "def Cp(x, usl, lsl):\n",
    "    sigma = x.std()\n",
    "    Cp = (usl - lsl) / (6*sigma)\n",
    "    return Cp"
   ]
  },
  {
   "cell_type": "code",
   "execution_count": 45,
   "metadata": {},
   "outputs": [],
   "source": [
    "# Define the CPk index\n",
    "def Cpk(x, usl, lsl):\n",
    "    sigma = x.std()\n",
    "    m = x.mean()\n",
    "    Cpu = (usl - m) / (3*sigma)\n",
    "    Cpl = (m - lsl) / (3*sigma)\n",
    "    Cpk = np.min([Cpu, Cpl] )\n",
    "    return Cpk"
   ]
  },
  {
   "cell_type": "code",
   "execution_count": 46,
   "metadata": {},
   "outputs": [],
   "source": [
    "#Define the specifications limits\n",
    "usl = 74.05\n",
    "lsl = 73.95"
   ]
  },
  {
   "cell_type": "code",
   "execution_count": 47,
   "metadata": {},
   "outputs": [
    {
     "name": "stdout",
     "output_type": "stream",
     "text": [
      "Cp is:  1.6341663028555253\n"
     ]
    }
   ],
   "source": [
    "# Calculate the Cp value\n",
    "Cp = Cp(x, usl, lsl)\n",
    "print(\"Cp is: \", Cp)"
   ]
  },
  {
   "cell_type": "code",
   "execution_count": 48,
   "metadata": {},
   "outputs": [
    {
     "name": "stdout",
     "output_type": "stream",
     "text": [
      "Cpk is:  1.5957307114127943\n"
     ]
    }
   ],
   "source": [
    "Cpk = Cpk = Cpk(x, usl, lsl)\n",
    "print(\"Cpk is: \", Cpk)"
   ]
  },
  {
   "cell_type": "code",
   "execution_count": 49,
   "metadata": {},
   "outputs": [
    {
     "data": {
      "text/plain": [
       "1.5957307114127943"
      ]
     },
     "execution_count": 49,
     "metadata": {},
     "output_type": "execute_result"
    }
   ],
   "source": [
    "sigma = x.std()\n",
    "m = x.mean()\n",
    "Cpu = (usl - m) / (3*sigma)\n",
    "Cpu"
   ]
  },
  {
   "cell_type": "code",
   "execution_count": 50,
   "metadata": {},
   "outputs": [
    {
     "data": {
      "text/plain": [
       "1.6726018942982561"
      ]
     },
     "execution_count": 50,
     "metadata": {},
     "output_type": "execute_result"
    }
   ],
   "source": [
    "Cpl = (m - lsl) / (3*sigma)\n",
    "Cpl"
   ]
  },
  {
   "cell_type": "code",
   "execution_count": null,
   "metadata": {},
   "outputs": [],
   "source": []
  },
  {
   "cell_type": "code",
   "execution_count": null,
   "metadata": {},
   "outputs": [],
   "source": []
  }
 ],
 "metadata": {
  "kernelspec": {
   "display_name": "Python 3",
   "language": "python",
   "name": "python3"
  },
  "language_info": {
   "codemirror_mode": {
    "name": "ipython",
    "version": 3
   },
   "file_extension": ".py",
   "mimetype": "text/x-python",
   "name": "python",
   "nbconvert_exporter": "python",
   "pygments_lexer": "ipython3",
   "version": "3.7.4"
  }
 },
 "nbformat": 4,
 "nbformat_minor": 2
}
